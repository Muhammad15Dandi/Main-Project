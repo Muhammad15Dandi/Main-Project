{
 "cells": [
  {
   "cell_type": "markdown",
   "id": "ac440aa6-aa17-4198-9279-caec47f54324",
   "metadata": {},
   "source": [
    "# *Main Projects (Python): Exploring Data Insights Through K-Means Clustering*"
   ]
  },
  {
   "cell_type": "markdown",
   "id": "35d953f9-6570-48ed-8c4a-4841a9831771",
   "metadata": {},
   "source": [
    "## **Executive Summary**"
   ]
  },
  {
   "cell_type": "markdown",
   "id": "e3a96cec-88df-4cd6-8273-e925d722b8f8",
   "metadata": {},
   "source": [
    "Intel’s problem appears to fit the first fundamental marketing problem all firms face while formulating marketing strategy, i.e. multiple factors are working together in multifaceted ways to make all smartwatches differ in the market.\n",
    "\n",
    "In order to decide who to partner with, Intel must carefully select the best customer segment\n",
    "to target and decide what features to include and omit to optimize the watch for the segment.\n",
    "The partner they choose should depend on what segment of smartwatch customers they\n",
    "decide to target and what unique benefits they aim to provide."
   ]
  },
  {
   "cell_type": "markdown",
   "id": "b31624ef-7e11-44a5-8484-110e006bb410",
   "metadata": {},
   "source": [
    "### **Objectives**\n",
    "Intel must carefully select the best customer segment to target and decide what features to include and omit to optimize the watch for the segment.\n",
    "The partner they choose should depend on what segment of smartwatch customers they decide to target and what unique benefits they aim to provide.\n",
    "\n",
    "**Intel needs to answer the following questions:**\n",
    "1. How many distinct and meaningful segments are present in the market?\n",
    "2. How would you describe each identified segment?"
   ]
  },
  {
   "cell_type": "markdown",
   "id": "fe20dfce-b171-4e40-bed0-d8022db18b56",
   "metadata": {},
   "source": [
    "### **Technique Used**\n"
   ]
  },
  {
   "cell_type": "markdown",
   "id": "b1d813eb-ac61-428d-96d8-044215c3ff73",
   "metadata": {},
   "source": [
    "### **Key Findings**\n",
    "\n",
    "The output reveals that **3 clusters are more optimal than 4** as indicated by a score of 0.176. The first segment has no significant mean value higher than 4.0. Then, I might need to consider these respondents as **“Casual Tech Enthusiasts”**. This segment has moderate ratings for the smartwatch but might not prioritize any specific feature (See Appendix A).\n",
    "\n",
    "Looking at the second cluster, “CostCom”, “TimelyInf”, “TaskMgm” and “DeviceSt” have over 4.5 which suggests the high importance of the device technology performance and durability, this segment might be called **“Tech Geeks”**. This segment prioritized advanced features on the device.\n",
    "\n",
    "In the third cluster, features such as “ConstCom”, “Wellness”, “Athlete” and “Style” provided significant preferences with over 5.0, indicating a huge consideration for their health tracking, sports activities stylish design, this segment may be labeled **“Stylish Sports Enthusiast”**. This segment prioritized aesthetics and advanced features in their smartwatch."
   ]
  },
  {
   "cell_type": "markdown",
   "id": "8c119d6e-f602-46fb-b8a4-12cb85c2f3f7",
   "metadata": {},
   "source": [
    "### **Brief Data Description**\n",
    "Intel conducted a survey with university alumni who graduated after 1996. A total of about\n",
    "1,000 alumni complete the survey, a response rate of 2%. The data file consists of the\n",
    "following variables (e.g., product attributes) which are based on the key questions in the\n",
    "conducted survey.\n",
    "\n",
    "**Attributes** Participatians rated (1 = “very unimportant” to 7 = “very important”)\n",
    "- **ConstCom** (= Constant communication): The ability to receive subtle notifications at all\n",
    "times about messages and emails from family, friends, and work.\n",
    "- **TimelyInf** (= Timely information): The ability to receive up-to-the-minute smart (based\n",
    "on context) traffic updates, route updates on directions, etc.\n",
    "- **TaskMgm** (= Task management): The ability to automate tasks or perform them instantly,\n",
    "such as placing an online order as soon as something is running low\n",
    "- **DeviceSt** (= Device sturdiness): The ability not to worry about losing or damaging the\n",
    "device or having to recharge its battery.\n",
    "- **Wellness** (= Well-being): The ability to receive subtle reminders and smart goals to sleep\n",
    "regularly, take enough steps each day, change position (not sit too much), and breathe\n",
    "deeply.\n",
    "- **Athlete** The ability to receive challenging fitness and athletic goals, smart coaching to\n",
    "improve performance\n",
    "- **Style** The ability to wear stylish, fashion-forward accessories that look great with many\n",
    "outfits.\n",
    "\n",
    "**Other Attributes**\n",
    "- **AmznP**: Do you have an Amazon Prime account? (1 = Yes, 0 = No.)\n",
    "- **Female**: What is your gender? (1 = Female, 0 = Male)\n",
    "- **Degree**: What best describes your highest level of education? (1: Undergraduate degree,\n",
    "2: Master’s degree or higher, such as an M.D. or Ph.D.)\n",
    "- **Income**: What best describes your annual household income? (1 = Below $40K, 2 = $40-\n",
    "$70K, 3 = $71-100K, 4 = $101K-$175K, 5 = Greater than $175K.)\n",
    "- **Age**: How old are you? Measured in years."
   ]
  },
  {
   "cell_type": "markdown",
   "id": "b3289b0a-cf07-4e4e-b9e1-a70a7fdd75f0",
   "metadata": {},
   "source": [
    "### **Import Libraries**"
   ]
  },
  {
   "cell_type": "code",
   "execution_count": 1,
   "id": "09375440",
   "metadata": {},
   "outputs": [],
   "source": [
    "import pandas as pd \n",
    "import numpy as np\n",
    "import pandas as pd\n",
    "from sklearn.metrics import silhouette_score\n",
    "from sklearn.cluster import KMeans \n",
    "from sklearn.mixture import GaussianMixture\n",
    "#from sklearn_extra.cluster import KMedoids\n",
    "import scipy.stats\n",
    "from sklearn import mixture\n",
    "from sklearn.preprocessing import StandardScaler\n",
    "import matplotlib.pyplot as plt\n",
    "from IPython import display\n",
    "import seaborn as sns\n",
    "\n",
    "import warnings\n",
    "warnings.filterwarnings(\"ignore\")"
   ]
  },
  {
   "cell_type": "markdown",
   "id": "df9ab191-b078-4ed0-8ff5-d68c13b2113e",
   "metadata": {},
   "source": [
    "### **Read the Data**"
   ]
  },
  {
   "cell_type": "code",
   "execution_count": 2,
   "id": "016dd431",
   "metadata": {
    "scrolled": true
   },
   "outputs": [
    {
     "data": {
      "text/html": [
       "<div>\n",
       "<style scoped>\n",
       "    .dataframe tbody tr th:only-of-type {\n",
       "        vertical-align: middle;\n",
       "    }\n",
       "\n",
       "    .dataframe tbody tr th {\n",
       "        vertical-align: top;\n",
       "    }\n",
       "\n",
       "    .dataframe thead th {\n",
       "        text-align: right;\n",
       "    }\n",
       "</style>\n",
       "<table border=\"1\" class=\"dataframe\">\n",
       "  <thead>\n",
       "    <tr style=\"text-align: right;\">\n",
       "      <th></th>\n",
       "      <th>ConstCom</th>\n",
       "      <th>TimelyInf</th>\n",
       "      <th>TaskMgm</th>\n",
       "      <th>DeviceSt</th>\n",
       "      <th>Wellness</th>\n",
       "      <th>Athlete</th>\n",
       "      <th>Style</th>\n",
       "      <th>AmznP</th>\n",
       "      <th>Female</th>\n",
       "      <th>Degree</th>\n",
       "      <th>Income</th>\n",
       "      <th>Age</th>\n",
       "    </tr>\n",
       "  </thead>\n",
       "  <tbody>\n",
       "    <tr>\n",
       "      <th>0</th>\n",
       "      <td>3</td>\n",
       "      <td>2</td>\n",
       "      <td>3</td>\n",
       "      <td>3</td>\n",
       "      <td>2</td>\n",
       "      <td>3</td>\n",
       "      <td>3</td>\n",
       "      <td>1</td>\n",
       "      <td>1</td>\n",
       "      <td>1</td>\n",
       "      <td>2</td>\n",
       "      <td>38</td>\n",
       "    </tr>\n",
       "    <tr>\n",
       "      <th>1</th>\n",
       "      <td>6</td>\n",
       "      <td>6</td>\n",
       "      <td>6</td>\n",
       "      <td>6</td>\n",
       "      <td>5</td>\n",
       "      <td>3</td>\n",
       "      <td>1</td>\n",
       "      <td>1</td>\n",
       "      <td>0</td>\n",
       "      <td>2</td>\n",
       "      <td>3</td>\n",
       "      <td>38</td>\n",
       "    </tr>\n",
       "    <tr>\n",
       "      <th>2</th>\n",
       "      <td>7</td>\n",
       "      <td>4</td>\n",
       "      <td>4</td>\n",
       "      <td>4</td>\n",
       "      <td>6</td>\n",
       "      <td>4</td>\n",
       "      <td>1</td>\n",
       "      <td>0</td>\n",
       "      <td>0</td>\n",
       "      <td>1</td>\n",
       "      <td>3</td>\n",
       "      <td>42</td>\n",
       "    </tr>\n",
       "    <tr>\n",
       "      <th>3</th>\n",
       "      <td>7</td>\n",
       "      <td>5</td>\n",
       "      <td>4</td>\n",
       "      <td>5</td>\n",
       "      <td>5</td>\n",
       "      <td>4</td>\n",
       "      <td>4</td>\n",
       "      <td>1</td>\n",
       "      <td>0</td>\n",
       "      <td>2</td>\n",
       "      <td>5</td>\n",
       "      <td>35</td>\n",
       "    </tr>\n",
       "    <tr>\n",
       "      <th>4</th>\n",
       "      <td>7</td>\n",
       "      <td>4</td>\n",
       "      <td>2</td>\n",
       "      <td>6</td>\n",
       "      <td>3</td>\n",
       "      <td>2</td>\n",
       "      <td>4</td>\n",
       "      <td>1</td>\n",
       "      <td>0</td>\n",
       "      <td>1</td>\n",
       "      <td>3</td>\n",
       "      <td>36</td>\n",
       "    </tr>\n",
       "    <tr>\n",
       "      <th>...</th>\n",
       "      <td>...</td>\n",
       "      <td>...</td>\n",
       "      <td>...</td>\n",
       "      <td>...</td>\n",
       "      <td>...</td>\n",
       "      <td>...</td>\n",
       "      <td>...</td>\n",
       "      <td>...</td>\n",
       "      <td>...</td>\n",
       "      <td>...</td>\n",
       "      <td>...</td>\n",
       "      <td>...</td>\n",
       "    </tr>\n",
       "    <tr>\n",
       "      <th>995</th>\n",
       "      <td>5</td>\n",
       "      <td>5</td>\n",
       "      <td>5</td>\n",
       "      <td>4</td>\n",
       "      <td>6</td>\n",
       "      <td>5</td>\n",
       "      <td>6</td>\n",
       "      <td>1</td>\n",
       "      <td>0</td>\n",
       "      <td>2</td>\n",
       "      <td>4</td>\n",
       "      <td>37</td>\n",
       "    </tr>\n",
       "    <tr>\n",
       "      <th>996</th>\n",
       "      <td>7</td>\n",
       "      <td>7</td>\n",
       "      <td>6</td>\n",
       "      <td>5</td>\n",
       "      <td>5</td>\n",
       "      <td>2</td>\n",
       "      <td>5</td>\n",
       "      <td>1</td>\n",
       "      <td>0</td>\n",
       "      <td>1</td>\n",
       "      <td>5</td>\n",
       "      <td>36</td>\n",
       "    </tr>\n",
       "    <tr>\n",
       "      <th>997</th>\n",
       "      <td>5</td>\n",
       "      <td>6</td>\n",
       "      <td>7</td>\n",
       "      <td>7</td>\n",
       "      <td>4</td>\n",
       "      <td>3</td>\n",
       "      <td>5</td>\n",
       "      <td>1</td>\n",
       "      <td>0</td>\n",
       "      <td>1</td>\n",
       "      <td>5</td>\n",
       "      <td>40</td>\n",
       "    </tr>\n",
       "    <tr>\n",
       "      <th>998</th>\n",
       "      <td>1</td>\n",
       "      <td>1</td>\n",
       "      <td>4</td>\n",
       "      <td>3</td>\n",
       "      <td>2</td>\n",
       "      <td>4</td>\n",
       "      <td>3</td>\n",
       "      <td>1</td>\n",
       "      <td>0</td>\n",
       "      <td>1</td>\n",
       "      <td>1</td>\n",
       "      <td>39</td>\n",
       "    </tr>\n",
       "    <tr>\n",
       "      <th>999</th>\n",
       "      <td>1</td>\n",
       "      <td>6</td>\n",
       "      <td>7</td>\n",
       "      <td>4</td>\n",
       "      <td>7</td>\n",
       "      <td>5</td>\n",
       "      <td>5</td>\n",
       "      <td>1</td>\n",
       "      <td>1</td>\n",
       "      <td>1</td>\n",
       "      <td>3</td>\n",
       "      <td>29</td>\n",
       "    </tr>\n",
       "  </tbody>\n",
       "</table>\n",
       "<p>1000 rows × 12 columns</p>\n",
       "</div>"
      ],
      "text/plain": [
       "     ConstCom  TimelyInf  TaskMgm  DeviceSt  Wellness  Athlete  Style  AmznP  \\\n",
       "0           3          2        3         3         2        3      3      1   \n",
       "1           6          6        6         6         5        3      1      1   \n",
       "2           7          4        4         4         6        4      1      0   \n",
       "3           7          5        4         5         5        4      4      1   \n",
       "4           7          4        2         6         3        2      4      1   \n",
       "..        ...        ...      ...       ...       ...      ...    ...    ...   \n",
       "995         5          5        5         4         6        5      6      1   \n",
       "996         7          7        6         5         5        2      5      1   \n",
       "997         5          6        7         7         4        3      5      1   \n",
       "998         1          1        4         3         2        4      3      1   \n",
       "999         1          6        7         4         7        5      5      1   \n",
       "\n",
       "     Female  Degree  Income  Age  \n",
       "0         1       1       2   38  \n",
       "1         0       2       3   38  \n",
       "2         0       1       3   42  \n",
       "3         0       2       5   35  \n",
       "4         0       1       3   36  \n",
       "..      ...     ...     ...  ...  \n",
       "995       0       2       4   37  \n",
       "996       0       1       5   36  \n",
       "997       0       1       5   40  \n",
       "998       0       1       1   39  \n",
       "999       1       1       3   29  \n",
       "\n",
       "[1000 rows x 12 columns]"
      ]
     },
     "execution_count": 2,
     "metadata": {},
     "output_type": "execute_result"
    }
   ],
   "source": [
    "data = pd.read_excel(\"SmartWatch Data File.xlsx\")\n",
    "columns = data.columns\n",
    "data"
   ]
  },
  {
   "cell_type": "markdown",
   "id": "1187160e-3961-4dd5-9bf7-940983e574c5",
   "metadata": {},
   "source": [
    "## **Identify the dateset**"
   ]
  },
  {
   "cell_type": "markdown",
   "id": "b434a7e4-be41-4e24-b763-eb19392a899f",
   "metadata": {},
   "source": [
    "The dataset is **well-structured and clean** with all values represented as integers, indicating no errors or inconsistencies. Additionally, there are **no missing values**, which allows for a thorough analysis without the need for data imputation. Given this clarity and completeness, I can confidently proceed to check for outliers in the dataset."
   ]
  },
  {
   "cell_type": "code",
   "execution_count": 3,
   "id": "fe6df3a5-3aaa-441d-80a4-e48bd993056e",
   "metadata": {},
   "outputs": [
    {
     "name": "stdout",
     "output_type": "stream",
     "text": [
      "<class 'pandas.core.frame.DataFrame'>\n",
      "RangeIndex: 1000 entries, 0 to 999\n",
      "Data columns (total 12 columns):\n",
      " #   Column     Non-Null Count  Dtype\n",
      "---  ------     --------------  -----\n",
      " 0   ConstCom   1000 non-null   int64\n",
      " 1   TimelyInf  1000 non-null   int64\n",
      " 2   TaskMgm    1000 non-null   int64\n",
      " 3   DeviceSt   1000 non-null   int64\n",
      " 4   Wellness   1000 non-null   int64\n",
      " 5   Athlete    1000 non-null   int64\n",
      " 6   Style      1000 non-null   int64\n",
      " 7   AmznP      1000 non-null   int64\n",
      " 8   Female     1000 non-null   int64\n",
      " 9   Degree     1000 non-null   int64\n",
      " 10  Income     1000 non-null   int64\n",
      " 11  Age        1000 non-null   int64\n",
      "dtypes: int64(12)\n",
      "memory usage: 93.9 KB\n"
     ]
    }
   ],
   "source": [
    "data.info()"
   ]
  },
  {
   "cell_type": "markdown",
   "id": "1716cca2-f0b2-4561-ba30-f00cde7ac588",
   "metadata": {},
   "source": [
    "## **Unique Value**"
   ]
  },
  {
   "cell_type": "code",
   "execution_count": 4,
   "id": "7227d835-fb11-48a5-9d35-d51a41865c6a",
   "metadata": {},
   "outputs": [
    {
     "name": "stdout",
     "output_type": "stream",
     "text": [
      "ConstCom Unique Value: [3 6 7 2 5 4 1]\n",
      "TimelyInf Unique Value: [2 6 4 5 1 7 3]\n",
      "TaskMgm Unique Value: [3 6 4 2 5 7 1]\n",
      "DeviceSt Unique Value: [3 6 4 5 2 1 7]\n",
      "Athlete Unique Value: [3 4 2 1 5 6 7]\n",
      "Style Unique Value: [3 1 4 5 6 7 2]\n",
      "AmznP Unique Value: [1 0]\n",
      "Female Unique Value: [1 0]\n",
      "Degree Unique Value: [1 2]\n",
      "Income Unique Value: [2 3 5 4 1]\n",
      "Age Unique Value: [38 42 35 36 47 41 46 28 30 32 40 37 25 45 33 26 39 43 34 31 27 44 24 29]\n"
     ]
    }
   ],
   "source": [
    "columns1 = [\"ConstCom\", \"TimelyInf\", \"TaskMgm\", \"DeviceSt\", \"Athlete\", \"Style\", \"AmznP\", \"Female\", \"Degree\", \"Income\", \"Age\"]\n",
    "for i in columns1:\n",
    "    unique = data[i].unique()\n",
    "    print(f\"{i} Unique Value: {unique}\")"
   ]
  },
  {
   "cell_type": "markdown",
   "id": "b0020353-9956-4f45-96a6-68a21906e667",
   "metadata": {},
   "source": [
    "## **Check for outliers**"
   ]
  },
  {
   "cell_type": "markdown",
   "id": "5e7a0c39-2653-4b44-af43-bfb0b8d711b6",
   "metadata": {},
   "source": [
    "Identify outlier is important since it may indicate interesting patterns, anomalies, or errors in data collection, providing valuable insights for further investigation. In the boxplot, it can be seen that there is outlier in income attribute, but i decide not to handle it since i want to keep the originality of the dataset."
   ]
  },
  {
   "cell_type": "code",
   "execution_count": 5,
   "id": "ae2f6a82-2b27-4f41-bea0-acc6680e057a",
   "metadata": {
    "scrolled": true
   },
   "outputs": [
    {
     "data": {
      "image/png": "[encoded data removed]",
      "text/plain": [
       "<Figure size 1700x100 with 1 Axes>"
      ]
     },
     "metadata": {},
     "output_type": "display_data"
    },
    {
     "data": {
      "image/png": "[encoded data removed]",
      "text/plain": [
       "<Figure size 1700x100 with 1 Axes>"
      ]
     },
     "metadata": {},
     "output_type": "display_data"
    },
    {
     "data": {
      "image/png": "[encoded data removed]",
      "text/plain": [
       "<Figure size 1700x100 with 1 Axes>"
      ]
     },
     "metadata": {},
     "output_type": "display_data"
    },
    {
     "data": {
      "image/png": "[encoded data removed]",
      "text/plain": [
       "<Figure size 1700x100 with 1 Axes>"
      ]
     },
     "metadata": {},
     "output_type": "display_data"
    },
    {
     "data": {
      "image/png": "[encoded data removed]",
      "text/plain": [
       "<Figure size 1700x100 with 1 Axes>"
      ]
     },
     "metadata": {},
     "output_type": "display_data"
    },
    {
     "data": {
      "image/png": "[encoded data removed]",
      "text/plain": [
       "<Figure size 1700x100 with 1 Axes>"
      ]
     },
     "metadata": {},
     "output_type": "display_data"
    },
    {
     "data": {
      "image/png": "[encoded data removed]",
      "text/plain": [
       "<Figure size 1700x100 with 1 Axes>"
      ]
     },
     "metadata": {},
     "output_type": "display_data"
    },
    {
     "data": {
      "image/png": "[encoded data removed]",
      "text/plain": [
       "<Figure size 1700x100 with 1 Axes>"
      ]
     },
     "metadata": {},
     "output_type": "display_data"
    },
    {
     "data": {
      "image/png": "[encoded data removed]",
      "text/plain": [
       "<Figure size 1700x100 with 1 Axes>"
      ]
     },
     "metadata": {},
     "output_type": "display_data"
    },
    {
     "data": {
      "image/png": "[encoded data removed]",
      "text/plain": [
       "<Figure size 1700x100 with 1 Axes>"
      ]
     },
     "metadata": {},
     "output_type": "display_data"
    },
    {
     "data": {
      "image/png": "[encoded data removed]",
      "text/plain": [
       "<Figure size 1700x100 with 1 Axes>"
      ]
     },
     "metadata": {},
     "output_type": "display_data"
    }
   ],
   "source": [
    "for i in data[[\"ConstCom\", \"TimelyInf\", \"TaskMgm\", \"DeviceSt\", \"Athlete\", \"Style\", \"AmznP\", \"Female\", \"Degree\", \"Income\", \"Age\"]]:\n",
    "    plt.figure(figsize=(17, 1))\n",
    "    sns.boxplot(data[[\"ConstCom\", \"TimelyInf\", \"TaskMgm\", \"DeviceSt\", \"Athlete\", \"Style\", \"AmznP\", \"Female\", \"Degree\", \"Income\", \"Age\"]], x=i)"
   ]
  },
  {
   "cell_type": "markdown",
   "id": "5dff467c-0903-448e-a46a-3342c1a48df7",
   "metadata": {},
   "source": [
    "## **Explanatory data analaysis**"
   ]
  },
  {
   "cell_type": "markdown",
   "id": "2d60a006-ac84-4aa3-b437-b79c95e3a23f",
   "metadata": {},
   "source": [
    "Using both mean and median allows analysts to gain a fuller picture of the data. The mean provides insight into the overall average, while the median offers a view of the central tendency that is less influenced by outliers"
   ]
  },
  {
   "cell_type": "code",
   "execution_count": 6,
   "id": "55347682-c144-4e98-adf6-1698c738d5d3",
   "metadata": {},
   "outputs": [
    {
     "data": {
      "image/png": "[encoded data removed]",
      "text/plain": [
       "<Figure size 1200x800 with 1 Axes>"
      ]
     },
     "metadata": {},
     "output_type": "display_data"
    }
   ],
   "source": [
    "# Define Mean and Median as variable\n",
    "mean_data = data[[\"ConstCom\", \"TimelyInf\", \"TaskMgm\", \"DeviceSt\", \"Athlete\", \"Style\", \"AmznP\", \"Female\", \"Degree\", \"Income\", \"Age\"]].mean()\n",
    "median_data = data[[\"ConstCom\", \"TimelyInf\", \"TaskMgm\", \"DeviceSt\", \"Athlete\", \"Style\", \"AmznP\", \"Female\", \"Degree\", \"Income\", \"Age\"]].median()\n",
    "\n",
    "# Set up the figure and axis\n",
    "plt.figure(figsize=(12, 8))\n",
    "bar_width = 0.5\n",
    "index = np.arange(len(mean_data))\n",
    "\n",
    "# Create bars for mean and median\n",
    "bars_mean = plt.barh(index, mean_data.values, bar_width, label='Mean', edgecolor='black', color='blue')\n",
    "bars_median = plt.barh(index + bar_width, median_data.values, bar_width, edgecolor='black', label='Median', color='green')\n",
    "\n",
    "# Add value labels next to each bar\n",
    "for bar in bars_mean:\n",
    "    plt.text(bar.get_width(), bar.get_y() + bar.get_height()/2, \n",
    "             f'{bar.get_width():.1f}', va='center', ha='left', fontsize=10)\n",
    "for bar in bars_median:\n",
    "    plt.text(bar.get_width(), bar.get_y() + bar.get_height()/2, \n",
    "             f'{bar.get_width():.1f}', va='center', ha='left', fontsize=10)\n",
    "\n",
    "# Set labels and title\n",
    "plt.xlabel(\"Value\")\n",
    "plt.ylabel(\"Attribute\")\n",
    "plt.title(\"Mean and Median of Each Attribute\")\n",
    "plt.yticks(index + bar_width / 2, mean_data.index)\n",
    "plt.xlim(0, max(mean_data.max(), median_data.max()) + 1)  \n",
    "plt.grid(axis='x', linestyle='--', alpha=0.7)\n",
    "plt.legend()\n",
    "plt.show()"
   ]
  },
  {
   "cell_type": "markdown",
   "id": "539e0743",
   "metadata": {},
   "source": [
    "### **Scalling Data**"
   ]
  },
  {
   "cell_type": "markdown",
   "id": "a5280138-e64c-4811-b197-9a1fca6a2e72",
   "metadata": {},
   "source": [
    "This analysis utilize StandardScaler for preparing data for machine learning models, especially when features have different attributes and scale. By standardizing the data, you ensure that each feature contributes equally to the model, leading to improved performance and faster convergence during training."
   ]
  },
  {
   "cell_type": "code",
   "execution_count": 7,
   "id": "7c63fff6",
   "metadata": {},
   "outputs": [
    {
     "data": {
      "text/plain": [
       "array([[-1.07752655, -1.46305719, -0.78467982, ..., -0.70498652,\n",
       "        -1.14975745,  0.42375197],\n",
       "       [ 0.83524247,  1.09250122,  1.1935046 , ...,  1.41846685,\n",
       "        -0.2598523 ,  0.42375197],\n",
       "       [ 1.47283214, -0.18527799, -0.12528501, ..., -0.70498652,\n",
       "        -0.2598523 ,  1.10584769],\n",
       "       ...,\n",
       "       [ 0.1976528 ,  1.09250122,  1.85289941, ..., -0.70498652,\n",
       "         1.51995799,  0.76479983],\n",
       "       [-2.35270589, -2.1019468 , -0.12528501, ..., -0.70498652,\n",
       "        -2.0396626 ,  0.5942759 ],\n",
       "       [-2.35270589,  1.09250122,  1.85289941, ..., -0.70498652,\n",
       "        -0.2598523 , -1.1109634 ]])"
      ]
     },
     "execution_count": 7,
     "metadata": {},
     "output_type": "execute_result"
    }
   ],
   "source": [
    "scaler = StandardScaler()\n",
    "scaler.fit(data)\n",
    "scaled_data = scaler.transform(data)\n",
    "scaled_data "
   ]
  },
  {
   "cell_type": "code",
   "execution_count": 8,
   "id": "c4917651",
   "metadata": {
    "scrolled": true
   },
   "outputs": [
    {
     "data": {
      "text/html": [
       "<div>\n",
       "<style scoped>\n",
       "    .dataframe tbody tr th:only-of-type {\n",
       "        vertical-align: middle;\n",
       "    }\n",
       "\n",
       "    .dataframe tbody tr th {\n",
       "        vertical-align: top;\n",
       "    }\n",
       "\n",
       "    .dataframe thead th {\n",
       "        text-align: right;\n",
       "    }\n",
       "</style>\n",
       "<table border=\"1\" class=\"dataframe\">\n",
       "  <thead>\n",
       "    <tr style=\"text-align: right;\">\n",
       "      <th></th>\n",
       "      <th>ConstCom</th>\n",
       "      <th>TimelyInf</th>\n",
       "      <th>TaskMgm</th>\n",
       "      <th>DeviceSt</th>\n",
       "      <th>Wellness</th>\n",
       "      <th>Athlete</th>\n",
       "      <th>Style</th>\n",
       "      <th>AmznP</th>\n",
       "      <th>Female</th>\n",
       "      <th>Degree</th>\n",
       "      <th>Income</th>\n",
       "      <th>Age</th>\n",
       "    </tr>\n",
       "  </thead>\n",
       "  <tbody>\n",
       "    <tr>\n",
       "      <th>0</th>\n",
       "      <td>-1.077527</td>\n",
       "      <td>-1.463057</td>\n",
       "      <td>-0.784680</td>\n",
       "      <td>-0.535521</td>\n",
       "      <td>-1.451216</td>\n",
       "      <td>-0.549373</td>\n",
       "      <td>-1.059359</td>\n",
       "      <td>0.879232</td>\n",
       "      <td>0.875662</td>\n",
       "      <td>-0.704987</td>\n",
       "      <td>-1.149757</td>\n",
       "      <td>0.423752</td>\n",
       "    </tr>\n",
       "    <tr>\n",
       "      <th>1</th>\n",
       "      <td>0.835242</td>\n",
       "      <td>1.092501</td>\n",
       "      <td>1.193505</td>\n",
       "      <td>1.377054</td>\n",
       "      <td>0.388095</td>\n",
       "      <td>-0.549373</td>\n",
       "      <td>-2.690397</td>\n",
       "      <td>0.879232</td>\n",
       "      <td>-1.141993</td>\n",
       "      <td>1.418467</td>\n",
       "      <td>-0.259852</td>\n",
       "      <td>0.423752</td>\n",
       "    </tr>\n",
       "    <tr>\n",
       "      <th>2</th>\n",
       "      <td>1.472832</td>\n",
       "      <td>-0.185278</td>\n",
       "      <td>-0.125285</td>\n",
       "      <td>0.102004</td>\n",
       "      <td>1.001198</td>\n",
       "      <td>0.125532</td>\n",
       "      <td>-2.690397</td>\n",
       "      <td>-1.137356</td>\n",
       "      <td>-1.141993</td>\n",
       "      <td>-0.704987</td>\n",
       "      <td>-0.259852</td>\n",
       "      <td>1.105848</td>\n",
       "    </tr>\n",
       "    <tr>\n",
       "      <th>3</th>\n",
       "      <td>1.472832</td>\n",
       "      <td>0.453612</td>\n",
       "      <td>-0.125285</td>\n",
       "      <td>0.739529</td>\n",
       "      <td>0.388095</td>\n",
       "      <td>0.125532</td>\n",
       "      <td>-0.243840</td>\n",
       "      <td>0.879232</td>\n",
       "      <td>-1.141993</td>\n",
       "      <td>1.418467</td>\n",
       "      <td>1.519958</td>\n",
       "      <td>-0.087820</td>\n",
       "    </tr>\n",
       "    <tr>\n",
       "      <th>4</th>\n",
       "      <td>1.472832</td>\n",
       "      <td>-0.185278</td>\n",
       "      <td>-1.444075</td>\n",
       "      <td>1.377054</td>\n",
       "      <td>-0.838112</td>\n",
       "      <td>-1.224278</td>\n",
       "      <td>-0.243840</td>\n",
       "      <td>0.879232</td>\n",
       "      <td>-1.141993</td>\n",
       "      <td>-0.704987</td>\n",
       "      <td>-0.259852</td>\n",
       "      <td>0.082704</td>\n",
       "    </tr>\n",
       "    <tr>\n",
       "      <th>...</th>\n",
       "      <td>...</td>\n",
       "      <td>...</td>\n",
       "      <td>...</td>\n",
       "      <td>...</td>\n",
       "      <td>...</td>\n",
       "      <td>...</td>\n",
       "      <td>...</td>\n",
       "      <td>...</td>\n",
       "      <td>...</td>\n",
       "      <td>...</td>\n",
       "      <td>...</td>\n",
       "      <td>...</td>\n",
       "    </tr>\n",
       "    <tr>\n",
       "      <th>995</th>\n",
       "      <td>0.197653</td>\n",
       "      <td>0.453612</td>\n",
       "      <td>0.534110</td>\n",
       "      <td>0.102004</td>\n",
       "      <td>1.001198</td>\n",
       "      <td>0.800438</td>\n",
       "      <td>1.387198</td>\n",
       "      <td>0.879232</td>\n",
       "      <td>-1.141993</td>\n",
       "      <td>1.418467</td>\n",
       "      <td>0.630053</td>\n",
       "      <td>0.253228</td>\n",
       "    </tr>\n",
       "    <tr>\n",
       "      <th>996</th>\n",
       "      <td>1.472832</td>\n",
       "      <td>1.731391</td>\n",
       "      <td>1.193505</td>\n",
       "      <td>0.739529</td>\n",
       "      <td>0.388095</td>\n",
       "      <td>-1.224278</td>\n",
       "      <td>0.571679</td>\n",
       "      <td>0.879232</td>\n",
       "      <td>-1.141993</td>\n",
       "      <td>-0.704987</td>\n",
       "      <td>1.519958</td>\n",
       "      <td>0.082704</td>\n",
       "    </tr>\n",
       "    <tr>\n",
       "      <th>997</th>\n",
       "      <td>0.197653</td>\n",
       "      <td>1.092501</td>\n",
       "      <td>1.852899</td>\n",
       "      <td>2.014579</td>\n",
       "      <td>-0.225009</td>\n",
       "      <td>-0.549373</td>\n",
       "      <td>0.571679</td>\n",
       "      <td>0.879232</td>\n",
       "      <td>-1.141993</td>\n",
       "      <td>-0.704987</td>\n",
       "      <td>1.519958</td>\n",
       "      <td>0.764800</td>\n",
       "    </tr>\n",
       "    <tr>\n",
       "      <th>998</th>\n",
       "      <td>-2.352706</td>\n",
       "      <td>-2.101947</td>\n",
       "      <td>-0.125285</td>\n",
       "      <td>-0.535521</td>\n",
       "      <td>-1.451216</td>\n",
       "      <td>0.125532</td>\n",
       "      <td>-1.059359</td>\n",
       "      <td>0.879232</td>\n",
       "      <td>-1.141993</td>\n",
       "      <td>-0.704987</td>\n",
       "      <td>-2.039663</td>\n",
       "      <td>0.594276</td>\n",
       "    </tr>\n",
       "    <tr>\n",
       "      <th>999</th>\n",
       "      <td>-2.352706</td>\n",
       "      <td>1.092501</td>\n",
       "      <td>1.852899</td>\n",
       "      <td>0.102004</td>\n",
       "      <td>1.614302</td>\n",
       "      <td>0.800438</td>\n",
       "      <td>0.571679</td>\n",
       "      <td>0.879232</td>\n",
       "      <td>0.875662</td>\n",
       "      <td>-0.704987</td>\n",
       "      <td>-0.259852</td>\n",
       "      <td>-1.110963</td>\n",
       "    </tr>\n",
       "  </tbody>\n",
       "</table>\n",
       "<p>1000 rows × 12 columns</p>\n",
       "</div>"
      ],
      "text/plain": [
       "     ConstCom  TimelyInf   TaskMgm  DeviceSt  Wellness   Athlete     Style  \\\n",
       "0   -1.077527  -1.463057 -0.784680 -0.535521 -1.451216 -0.549373 -1.059359   \n",
       "1    0.835242   1.092501  1.193505  1.377054  0.388095 -0.549373 -2.690397   \n",
       "2    1.472832  -0.185278 -0.125285  0.102004  1.001198  0.125532 -2.690397   \n",
       "3    1.472832   0.453612 -0.125285  0.739529  0.388095  0.125532 -0.243840   \n",
       "4    1.472832  -0.185278 -1.444075  1.377054 -0.838112 -1.224278 -0.243840   \n",
       "..        ...        ...       ...       ...       ...       ...       ...   \n",
       "995  0.197653   0.453612  0.534110  0.102004  1.001198  0.800438  1.387198   \n",
       "996  1.472832   1.731391  1.193505  0.739529  0.388095 -1.224278  0.571679   \n",
       "997  0.197653   1.092501  1.852899  2.014579 -0.225009 -0.549373  0.571679   \n",
       "998 -2.352706  -2.101947 -0.125285 -0.535521 -1.451216  0.125532 -1.059359   \n",
       "999 -2.352706   1.092501  1.852899  0.102004  1.614302  0.800438  0.571679   \n",
       "\n",
       "        AmznP    Female    Degree    Income       Age  \n",
       "0    0.879232  0.875662 -0.704987 -1.149757  0.423752  \n",
       "1    0.879232 -1.141993  1.418467 -0.259852  0.423752  \n",
       "2   -1.137356 -1.141993 -0.704987 -0.259852  1.105848  \n",
       "3    0.879232 -1.141993  1.418467  1.519958 -0.087820  \n",
       "4    0.879232 -1.141993 -0.704987 -0.259852  0.082704  \n",
       "..        ...       ...       ...       ...       ...  \n",
       "995  0.879232 -1.141993  1.418467  0.630053  0.253228  \n",
       "996  0.879232 -1.141993 -0.704987  1.519958  0.082704  \n",
       "997  0.879232 -1.141993 -0.704987  1.519958  0.764800  \n",
       "998  0.879232 -1.141993 -0.704987 -2.039663  0.594276  \n",
       "999  0.879232  0.875662 -0.704987 -0.259852 -1.110963  \n",
       "\n",
       "[1000 rows x 12 columns]"
      ]
     },
     "execution_count": 8,
     "metadata": {},
     "output_type": "execute_result"
    }
   ],
   "source": [
    "data = pd.DataFrame(scaled_data)\n",
    "data.columns = columns\n",
    "data"
   ]
  },
  {
   "cell_type": "markdown",
   "id": "08e64121",
   "metadata": {},
   "source": [
    "### **Check Optimal Cluster using Elbow Method**"
   ]
  },
  {
   "cell_type": "markdown",
   "id": "771dc677-4625-4e36-9114-c17139c211d0",
   "metadata": {},
   "source": [
    "The elbow method is a valuable tool for determining the optimal number of clusters due to its visual clarity, ability to highlight diminishing returns, simplicity, and effectiveness in balancing model complexity with data fit."
   ]
  },
  {
   "cell_type": "code",
   "execution_count": 9,
   "id": "935fe987",
   "metadata": {
    "scrolled": true
   },
   "outputs": [
    {
     "data": {
      "text/plain": [
       "<function matplotlib.pyplot.show(close=None, block=None)>"
      ]
     },
     "execution_count": 9,
     "metadata": {},
     "output_type": "execute_result"
    },
    {
     "data": {
      "image/png": "[encoded data removed]",
      "text/plain": [
       "<Figure size 640x480 with 1 Axes>"
      ]
     },
     "metadata": {},
     "output_type": "display_data"
    }
   ],
   "source": [
    "# Calculate distortion for a range of number of cluster Using Kmeans\n",
    "distortions = []\n",
    "for i in range(1,11):\n",
    "    cluster = KMeans(n_clusters = i )\n",
    "    cluster.fit(data)\n",
    "    distortions.append(cluster.inertia_)\n",
    "    \n",
    "# plot\n",
    "plt.plot(range(1,11),distortions,marker ='o')\n",
    "plt.xlabel('Number of clusters')\n",
    "plt.ylabel('Distortion')\n",
    "plt.show"
   ]
  },
  {
   "cell_type": "markdown",
   "id": "181b0af2",
   "metadata": {},
   "source": [
    "### **Check Optimal Cluster using Shilloute Score Method**"
   ]
  },
  {
   "cell_type": "markdown",
   "id": "e3e3fd90-3868-4efa-a82c-4d8c47f2e6cd",
   "metadata": {},
   "source": [
    "Using both the elbow method and the silhouette score method allows for a more robust and reliable determination of the optimal number of clusters, ensuring that the clustering solution is both statistically sound and meaningful."
   ]
  },
  {
   "cell_type": "code",
   "execution_count": 10,
   "id": "502b2af1",
   "metadata": {
    "scrolled": true
   },
   "outputs": [
    {
     "name": "stdout",
     "output_type": "stream",
     "text": [
      "For n_clusters = 2, silhouette score is 0.1999021939667023)\n",
      "For n_clusters = 3, silhouette score is 0.17624842429186477)\n",
      "For n_clusters = 4, silhouette score is 0.16256169636590284)\n",
      "For n_clusters = 5, silhouette score is 0.1590730571285564)\n",
      "For n_clusters = 6, silhouette score is 0.14587667555719752)\n",
      "For n_clusters = 7, silhouette score is 0.1435914188660829)\n",
      "For n_clusters = 8, silhouette score is 0.12800345489215387)\n",
      "For n_clusters = 9, silhouette score is 0.12854761616285157)\n",
      "For n_clusters = 10, silhouette score is 0.13645441122964408)\n"
     ]
    }
   ],
   "source": [
    "for n_clusters in range(2,11):\n",
    "    clusterer = KMeans(n_clusters=n_clusters)\n",
    "    preds = clusterer.fit_predict(data)\n",
    "    centers = clusterer.cluster_centers_\n",
    "\n",
    "    score = silhouette_score(data, preds)\n",
    "    print(\"For n_clusters = {}, silhouette score is {})\".format(n_clusters, score))"
   ]
  },
  {
   "cell_type": "markdown",
   "id": "bf5f1d00",
   "metadata": {},
   "source": [
    "### **Plot the Clustering using K-Means**"
   ]
  },
  {
   "cell_type": "markdown",
   "id": "66065617-6a8b-40dd-8b96-4adcd196be11",
   "metadata": {},
   "source": [
    "K-Means clustering is effective because it is simple to implement and computationally efficient, making it suitable for large datasets. It provides clear and interpretable results, allowing for easy visualization of clusters. The algorithm is versatile and can be applied to various types of data, making it widely applicable in different domains. Additionally, K-Means can quickly converge to a solution, enabling rapid analysis and insights."
   ]
  },
  {
   "cell_type": "code",
   "execution_count": 11,
   "id": "957120c0",
   "metadata": {},
   "outputs": [
    {
     "data": {
      "image/png": "[encoded data removed]",
      "text/plain": [
       "<Figure size 1500x1000 with 1 Axes>"
      ]
     },
     "metadata": {},
     "output_type": "display_data"
    }
   ],
   "source": [
    "plt.figure(figsize=(15,10))\n",
    "cluster1 = KMeans(n_clusters=3, random_state=0)\n",
    "y = cluster1.fit_predict(data)\n",
    "\n",
    "plt.scatter(data.iloc[y == 0, 0], data.iloc[y == 0, 1],\n",
    "           s=50, c='lightgreen', marker='s', edgecolor='black',\n",
    "           label='cluster1')\n",
    "\n",
    "plt.scatter(data.iloc[y == 1, 0], data.iloc[y == 1, 1],\n",
    "           s=50, c='orange', marker='o', edgecolor='black',\n",
    "           label='cluster2')\n",
    "\n",
    "plt.scatter(data.iloc[y == 2, 0], data.iloc[y == 2, 1],\n",
    "           s=50, c='blue', marker='^', edgecolor='black',\n",
    "           label='cluster3')\n",
    "\n",
    "# plot the centroids\n",
    "plt.scatter(cluster1.cluster_centers_[:, 0], cluster1.cluster_centers_[:, 1],\n",
    "           s=250, marker='*', c='red', edgecolor='black',\n",
    "           label='centroids')\n",
    "\n",
    "result_centroids_coordinates = cluster1.cluster_centers_[:, 0], cluster1.cluster_centers_[:, 1]\n",
    "\n",
    "plt.legend(scatterpoints=1)\n",
    "plt.grid()\n",
    "plt.show()"
   ]
  },
  {
   "cell_type": "code",
   "execution_count": 12,
   "id": "63ce3822",
   "metadata": {},
   "outputs": [
    {
     "data": {
      "text/html": [
       "<div>\n",
       "<style scoped>\n",
       "    .dataframe tbody tr th:only-of-type {\n",
       "        vertical-align: middle;\n",
       "    }\n",
       "\n",
       "    .dataframe tbody tr th {\n",
       "        vertical-align: top;\n",
       "    }\n",
       "\n",
       "    .dataframe thead th {\n",
       "        text-align: right;\n",
       "    }\n",
       "</style>\n",
       "<table border=\"1\" class=\"dataframe\">\n",
       "  <thead>\n",
       "    <tr style=\"text-align: right;\">\n",
       "      <th></th>\n",
       "      <th>ConstCom</th>\n",
       "      <th>TimelyInf</th>\n",
       "      <th>TaskMgm</th>\n",
       "      <th>DeviceSt</th>\n",
       "      <th>Wellness</th>\n",
       "      <th>Athlete</th>\n",
       "      <th>Style</th>\n",
       "      <th>AmznP</th>\n",
       "      <th>Female</th>\n",
       "      <th>Degree</th>\n",
       "      <th>Income</th>\n",
       "      <th>Age</th>\n",
       "      <th>clustering</th>\n",
       "    </tr>\n",
       "  </thead>\n",
       "  <tbody>\n",
       "    <tr>\n",
       "      <th>0</th>\n",
       "      <td>-1.077527</td>\n",
       "      <td>-1.463057</td>\n",
       "      <td>-0.784680</td>\n",
       "      <td>-0.535521</td>\n",
       "      <td>-1.451216</td>\n",
       "      <td>-0.549373</td>\n",
       "      <td>-1.059359</td>\n",
       "      <td>0.879232</td>\n",
       "      <td>0.875662</td>\n",
       "      <td>-0.704987</td>\n",
       "      <td>-1.149757</td>\n",
       "      <td>0.423752</td>\n",
       "      <td>0</td>\n",
       "    </tr>\n",
       "    <tr>\n",
       "      <th>1</th>\n",
       "      <td>0.835242</td>\n",
       "      <td>1.092501</td>\n",
       "      <td>1.193505</td>\n",
       "      <td>1.377054</td>\n",
       "      <td>0.388095</td>\n",
       "      <td>-0.549373</td>\n",
       "      <td>-2.690397</td>\n",
       "      <td>0.879232</td>\n",
       "      <td>-1.141993</td>\n",
       "      <td>1.418467</td>\n",
       "      <td>-0.259852</td>\n",
       "      <td>0.423752</td>\n",
       "      <td>2</td>\n",
       "    </tr>\n",
       "    <tr>\n",
       "      <th>2</th>\n",
       "      <td>1.472832</td>\n",
       "      <td>-0.185278</td>\n",
       "      <td>-0.125285</td>\n",
       "      <td>0.102004</td>\n",
       "      <td>1.001198</td>\n",
       "      <td>0.125532</td>\n",
       "      <td>-2.690397</td>\n",
       "      <td>-1.137356</td>\n",
       "      <td>-1.141993</td>\n",
       "      <td>-0.704987</td>\n",
       "      <td>-0.259852</td>\n",
       "      <td>1.105848</td>\n",
       "      <td>2</td>\n",
       "    </tr>\n",
       "    <tr>\n",
       "      <th>3</th>\n",
       "      <td>1.472832</td>\n",
       "      <td>0.453612</td>\n",
       "      <td>-0.125285</td>\n",
       "      <td>0.739529</td>\n",
       "      <td>0.388095</td>\n",
       "      <td>0.125532</td>\n",
       "      <td>-0.243840</td>\n",
       "      <td>0.879232</td>\n",
       "      <td>-1.141993</td>\n",
       "      <td>1.418467</td>\n",
       "      <td>1.519958</td>\n",
       "      <td>-0.087820</td>\n",
       "      <td>2</td>\n",
       "    </tr>\n",
       "    <tr>\n",
       "      <th>4</th>\n",
       "      <td>1.472832</td>\n",
       "      <td>-0.185278</td>\n",
       "      <td>-1.444075</td>\n",
       "      <td>1.377054</td>\n",
       "      <td>-0.838112</td>\n",
       "      <td>-1.224278</td>\n",
       "      <td>-0.243840</td>\n",
       "      <td>0.879232</td>\n",
       "      <td>-1.141993</td>\n",
       "      <td>-0.704987</td>\n",
       "      <td>-0.259852</td>\n",
       "      <td>0.082704</td>\n",
       "      <td>2</td>\n",
       "    </tr>\n",
       "    <tr>\n",
       "      <th>...</th>\n",
       "      <td>...</td>\n",
       "      <td>...</td>\n",
       "      <td>...</td>\n",
       "      <td>...</td>\n",
       "      <td>...</td>\n",
       "      <td>...</td>\n",
       "      <td>...</td>\n",
       "      <td>...</td>\n",
       "      <td>...</td>\n",
       "      <td>...</td>\n",
       "      <td>...</td>\n",
       "      <td>...</td>\n",
       "      <td>...</td>\n",
       "    </tr>\n",
       "    <tr>\n",
       "      <th>995</th>\n",
       "      <td>0.197653</td>\n",
       "      <td>0.453612</td>\n",
       "      <td>0.534110</td>\n",
       "      <td>0.102004</td>\n",
       "      <td>1.001198</td>\n",
       "      <td>0.800438</td>\n",
       "      <td>1.387198</td>\n",
       "      <td>0.879232</td>\n",
       "      <td>-1.141993</td>\n",
       "      <td>1.418467</td>\n",
       "      <td>0.630053</td>\n",
       "      <td>0.253228</td>\n",
       "      <td>1</td>\n",
       "    </tr>\n",
       "    <tr>\n",
       "      <th>996</th>\n",
       "      <td>1.472832</td>\n",
       "      <td>1.731391</td>\n",
       "      <td>1.193505</td>\n",
       "      <td>0.739529</td>\n",
       "      <td>0.388095</td>\n",
       "      <td>-1.224278</td>\n",
       "      <td>0.571679</td>\n",
       "      <td>0.879232</td>\n",
       "      <td>-1.141993</td>\n",
       "      <td>-0.704987</td>\n",
       "      <td>1.519958</td>\n",
       "      <td>0.082704</td>\n",
       "      <td>2</td>\n",
       "    </tr>\n",
       "    <tr>\n",
       "      <th>997</th>\n",
       "      <td>0.197653</td>\n",
       "      <td>1.092501</td>\n",
       "      <td>1.852899</td>\n",
       "      <td>2.014579</td>\n",
       "      <td>-0.225009</td>\n",
       "      <td>-0.549373</td>\n",
       "      <td>0.571679</td>\n",
       "      <td>0.879232</td>\n",
       "      <td>-1.141993</td>\n",
       "      <td>-0.704987</td>\n",
       "      <td>1.519958</td>\n",
       "      <td>0.764800</td>\n",
       "      <td>2</td>\n",
       "    </tr>\n",
       "    <tr>\n",
       "      <th>998</th>\n",
       "      <td>-2.352706</td>\n",
       "      <td>-2.101947</td>\n",
       "      <td>-0.125285</td>\n",
       "      <td>-0.535521</td>\n",
       "      <td>-1.451216</td>\n",
       "      <td>0.125532</td>\n",
       "      <td>-1.059359</td>\n",
       "      <td>0.879232</td>\n",
       "      <td>-1.141993</td>\n",
       "      <td>-0.704987</td>\n",
       "      <td>-2.039663</td>\n",
       "      <td>0.594276</td>\n",
       "      <td>0</td>\n",
       "    </tr>\n",
       "    <tr>\n",
       "      <th>999</th>\n",
       "      <td>-2.352706</td>\n",
       "      <td>1.092501</td>\n",
       "      <td>1.852899</td>\n",
       "      <td>0.102004</td>\n",
       "      <td>1.614302</td>\n",
       "      <td>0.800438</td>\n",
       "      <td>0.571679</td>\n",
       "      <td>0.879232</td>\n",
       "      <td>0.875662</td>\n",
       "      <td>-0.704987</td>\n",
       "      <td>-0.259852</td>\n",
       "      <td>-1.110963</td>\n",
       "      <td>1</td>\n",
       "    </tr>\n",
       "  </tbody>\n",
       "</table>\n",
       "<p>1000 rows × 13 columns</p>\n",
       "</div>"
      ],
      "text/plain": [
       "     ConstCom  TimelyInf   TaskMgm  DeviceSt  Wellness   Athlete     Style  \\\n",
       "0   -1.077527  -1.463057 -0.784680 -0.535521 -1.451216 -0.549373 -1.059359   \n",
       "1    0.835242   1.092501  1.193505  1.377054  0.388095 -0.549373 -2.690397   \n",
       "2    1.472832  -0.185278 -0.125285  0.102004  1.001198  0.125532 -2.690397   \n",
       "3    1.472832   0.453612 -0.125285  0.739529  0.388095  0.125532 -0.243840   \n",
       "4    1.472832  -0.185278 -1.444075  1.377054 -0.838112 -1.224278 -0.243840   \n",
       "..        ...        ...       ...       ...       ...       ...       ...   \n",
       "995  0.197653   0.453612  0.534110  0.102004  1.001198  0.800438  1.387198   \n",
       "996  1.472832   1.731391  1.193505  0.739529  0.388095 -1.224278  0.571679   \n",
       "997  0.197653   1.092501  1.852899  2.014579 -0.225009 -0.549373  0.571679   \n",
       "998 -2.352706  -2.101947 -0.125285 -0.535521 -1.451216  0.125532 -1.059359   \n",
       "999 -2.352706   1.092501  1.852899  0.102004  1.614302  0.800438  0.571679   \n",
       "\n",
       "        AmznP    Female    Degree    Income       Age  clustering  \n",
       "0    0.879232  0.875662 -0.704987 -1.149757  0.423752           0  \n",
       "1    0.879232 -1.141993  1.418467 -0.259852  0.423752           2  \n",
       "2   -1.137356 -1.141993 -0.704987 -0.259852  1.105848           2  \n",
       "3    0.879232 -1.141993  1.418467  1.519958 -0.087820           2  \n",
       "4    0.879232 -1.141993 -0.704987 -0.259852  0.082704           2  \n",
       "..        ...       ...       ...       ...       ...         ...  \n",
       "995  0.879232 -1.141993  1.418467  0.630053  0.253228           1  \n",
       "996  0.879232 -1.141993 -0.704987  1.519958  0.082704           2  \n",
       "997  0.879232 -1.141993 -0.704987  1.519958  0.764800           2  \n",
       "998  0.879232 -1.141993 -0.704987 -2.039663  0.594276           0  \n",
       "999  0.879232  0.875662 -0.704987 -0.259852 -1.110963           1  \n",
       "\n",
       "[1000 rows x 13 columns]"
      ]
     },
     "execution_count": 12,
     "metadata": {},
     "output_type": "execute_result"
    }
   ],
   "source": [
    "data[\"clustering\"] = y\n",
    "data"
   ]
  },
  {
   "cell_type": "markdown",
   "id": "6c759c5c-c78f-4943-9e57-d2593c639a4b",
   "metadata": {},
   "source": [
    "## **The Clustering Analysis**"
   ]
  },
  {
   "cell_type": "markdown",
   "id": "9b2f4b36-36f9-41eb-ba7a-1a76c37f153f",
   "metadata": {},
   "source": [
    "When considering cluster segmentation for Intel products, three key techniques can be employed: **the Elbow Method, Silhouette Score, and K-Means clustering**. Each of these methods provides valuable insights into the optimal number of clusters, helping to ensure effective segmentation.\n",
    "\n",
    "- **The Elbow Method** plot shows a significant drop in distortion (within-cluster sum of squares) as the number of clusters increases from 2 to 3. After 3 clusters, the rate of decrease in distortion slows down, indicating that adding more clusters yields diminishing returns. This suggests that 3 clusters effectively capture the structure of the data without overfitting.\n",
    "\n",
    "- **The Silhouette Scores** for different cluster numbers indicate how well-separated the clusters are:\n",
    "\n",
    " 1. For n_clusters = 2, the silhouette score is 0.1999, which is relatively low but indicates some separation.\n",
    " 2. For n_clusters = 3, the score drops to 0.1762, suggesting that while the separation is not optimal, it is still reasonable.\n",
    " 3. For n_clusters = 4, the score further decreases to 0.1626, indicating that the clusters are becoming less distinct.\n",
    "\n",
    "- **Kmeans clustering** with 3 clusters, the model likely balances complexity and interpretability. Fewer clusters (like 2) may oversimplify the data, while more clusters (like 4 or 5) may complicate the interpretation without providing significant benefits in terms of separation."
   ]
  },
  {
   "cell_type": "markdown",
   "id": "c5305f0f-3069-4dd6-9f7a-5f5ddfacceca",
   "metadata": {},
   "source": [
    "## **Clustered Descriptive Statistics**"
   ]
  },
  {
   "cell_type": "markdown",
   "id": "bb142e06-0718-4ca8-bfb4-d5df3367a165",
   "metadata": {},
   "source": [
    "#### **Summary of Cluster 0**\n",
    "- There are 397 observations in cluster 0, indicating a substantial sample size for analysis.\n",
    "- The mean values for the attributes are all negative, suggesting that, on average, the respondents in this cluster rated these product features lower than the overall mean\n",
    "- The standard deviations indicate the variability of responses within this cluster:\n",
    " 1. ConstCom (0.974) and TimelyInf (0.931) show relatively high variability, suggesting diverse opinions on these features.\n",
    " 2. TaskMgm (0.644) and DeviceSt (0.730) have moderate variability, while Athlete (0.653) shows lower variability compared to the others.\n",
    "\n",
    "#### **Summary of Cluster 1**\n",
    "- There are 384 observations in cluster 1, indicating a robust sample size for analysis.\n",
    "- The mean values for the attributes are generally positive, suggesting that respondents in this cluster rated these product features higher than the overall mean.\n",
    "- The standard deviations for most attributes are relatively high, indicating variability in responses within the cluster:\n",
    " 1. TaskMgm has the highest standard deviation (1.03), suggesting diverse opinions on task management features.\n",
    " 2. Wellness and Athlete have lower standard deviations, indicating more consistent positive ratings among respondents.\n",
    "\n",
    "#### **Summary of Cluster 2**\n",
    "- There are 219 observations in cluster 2, indicating a smaller but still significant sample size for analysis.\n",
    "- The mean values for the attributes show a mix of positive and negative ratings.\n",
    " 1. ConstCom: Mean of 0.5208, indicating a generally favorable perception of constant communication features.\n",
    " 2. TimelyInf: Mean of 0.8504, suggesting a strong positive rating for timely information, indicating that respondents value this feature highly.\n",
    " 3. TaskMgm: Mean of 0.4347, reflecting a moderate positive perception of task management features.\n",
    " 4. DeviceSt: Mean of 0.7686, indicating a favorable view of device sturdiness.\n",
    " 5. Wellness: Mean of -0.4098, suggesting that respondents rated wellness features lower than average, indicating less importance or satisfaction.\n",
    " 6. Athlete: Mean of -0.8606, indicating a significantly lower rating for athletic features, suggesting that this aspect may not resonate well with this group."
   ]
  },
  {
   "cell_type": "code",
   "execution_count": 13,
   "id": "63a963df",
   "metadata": {},
   "outputs": [
    {
     "name": "stdout",
     "output_type": "stream",
     "text": [
      "this is group/clustering 0\n",
      "         ConstCom   TimelyInf     TaskMgm    DeviceSt    Wellness     Athlete  \\\n",
      "count  397.000000  397.000000  397.000000  397.000000  397.000000  397.000000   \n",
      "mean    -0.499360   -0.539323   -0.608620   -0.794064   -0.621905   -0.433772   \n",
      "std      0.973698    0.930551    0.643977    0.730347    0.763823    0.652684   \n",
      "min     -2.352706   -2.101947   -2.103469   -1.810571   -2.064319   -1.899183   \n",
      "25%     -1.077527   -1.463057   -0.784680   -1.173046   -0.838112   -0.549373   \n",
      "50%     -0.439937   -0.185278   -0.784680   -0.535521   -0.838112   -0.549373   \n",
      "75%      0.197653   -0.185278   -0.125285   -0.535521   -0.225009    0.125532   \n",
      "max      1.472832    1.731391    1.193505    2.014579    1.614302    1.475343   \n",
      "\n",
      "            Style       AmznP      Female      Degree      Income         Age  \\\n",
      "count  397.000000  397.000000  397.000000  397.000000  397.000000  397.000000   \n",
      "mean    -0.484182   -0.395739   -0.105213   -0.368015   -0.551257    0.551752   \n",
      "std      0.556682    0.973616    1.009713    0.776861    0.809200    0.646861   \n",
      "min     -2.690397   -1.137356   -1.141993   -0.704987   -2.039663   -1.793059   \n",
      "25%     -1.059359   -1.137356   -1.141993   -0.704987   -1.149757    0.082704   \n",
      "50%     -0.243840   -1.137356    0.875662   -0.704987   -0.259852    0.594276   \n",
      "75%     -0.243840    0.879232    0.875662   -0.704987   -0.259852    0.935324   \n",
      "max      1.387198    0.879232    0.875662    1.418467    1.519958    1.958467   \n",
      "\n",
      "       clustering  \n",
      "count       397.0  \n",
      "mean          0.0  \n",
      "std           0.0  \n",
      "min           0.0  \n",
      "25%           0.0  \n",
      "50%           0.0  \n",
      "75%           0.0  \n",
      "max           0.0  \n",
      "this is group/clustering 1\n",
      "         ConstCom   TimelyInf     TaskMgm    DeviceSt    Wellness     Athlete  \\\n",
      "count  384.000000  384.000000  384.000000  384.000000  384.000000  384.000000   \n",
      "mean     0.219238    0.072607    0.381281    0.382581    0.876661    0.939285   \n",
      "std      0.878168    0.822280    1.031028    0.806295    0.564042    0.642170   \n",
      "min     -2.352706   -2.101947   -2.103469   -1.810571   -0.838112   -0.549373   \n",
      "25%     -0.439937   -0.185278   -0.125285    0.102004    0.388095    0.800438   \n",
      "50%      0.197653    0.453612    0.534110    0.102004    1.001198    0.800438   \n",
      "75%      0.835242    0.453612    1.193505    0.739529    1.614302    1.475343   \n",
      "max      1.472832    1.731391    1.852899    2.014579    1.614302    2.150248   \n",
      "\n",
      "            Style       AmznP      Female      Degree      Income         Age  \\\n",
      "count  384.000000  384.000000  384.000000  384.000000  384.000000  384.000000   \n",
      "mean     0.856261    0.438104    0.229382    0.240614    0.310243   -0.947101   \n",
      "std      0.906515    0.834742    0.942659    1.056734    0.992506    0.725694   \n",
      "min     -1.059359   -1.137356   -1.141993   -0.704987   -2.039663   -1.963583   \n",
      "25%     -0.243840    0.879232   -1.141993   -0.704987   -0.259852   -1.622535   \n",
      "50%      0.571679    0.879232    0.875662   -0.704987    0.630053   -0.940439   \n",
      "75%      1.387198    0.879232    0.875662    1.418467    1.519958   -0.428868   \n",
      "max      2.202716    0.879232    0.875662    1.418467    1.519958    0.935324   \n",
      "\n",
      "       clustering  \n",
      "count       384.0  \n",
      "mean          1.0  \n",
      "std           0.0  \n",
      "min           1.0  \n",
      "25%           1.0  \n",
      "50%           1.0  \n",
      "75%           1.0  \n",
      "max           1.0  \n",
      "this is group/clustering 2\n",
      "         ConstCom   TimelyInf     TaskMgm    DeviceSt    Wellness     Athlete  \\\n",
      "count  219.000000  219.000000  219.000000  219.000000  219.000000  219.000000   \n",
      "mean     0.520815    0.850365    0.434749    0.768640   -0.409780   -0.860630   \n",
      "std      0.835945    0.748906    0.919632    0.690242    0.861182    0.669341   \n",
      "min     -2.352706   -0.824168   -1.444075   -1.173046   -2.064319   -1.899183   \n",
      "25%      0.197653    0.453612   -0.125285    0.102004   -0.838112   -1.224278   \n",
      "50%      0.835242    1.092501    0.534110    0.739529   -0.225009   -0.549373   \n",
      "75%      1.472832    1.731391    1.193505    1.377054    0.388095   -0.549373   \n",
      "max      1.472832    1.731391    1.852899    2.014579    1.614302    0.125532   \n",
      "\n",
      "            Style       AmznP      Female      Degree      Income         Age  \\\n",
      "count  219.000000  219.000000  219.000000  219.000000  219.000000  219.000000   \n",
      "mean    -0.623671   -0.050792   -0.211476    0.245235    0.455323    0.660461   \n",
      "std      0.686531    1.007555    1.008088    1.058274    0.857806    0.573760   \n",
      "min     -2.690397   -1.137356   -1.141993   -0.704987   -2.039663   -0.940439   \n",
      "25%     -1.059359   -1.137356   -1.141993   -0.704987   -0.259852    0.253228   \n",
      "50%     -0.243840    0.879232   -1.141993   -0.704987    0.630053    0.594276   \n",
      "75%     -0.243840    0.879232    0.875662    1.418467    1.519958    1.105848   \n",
      "max      1.387198    0.879232    0.875662    1.418467    1.519958    1.958467   \n",
      "\n",
      "       clustering  \n",
      "count       219.0  \n",
      "mean          2.0  \n",
      "std           0.0  \n",
      "min           2.0  \n",
      "25%           2.0  \n",
      "50%           2.0  \n",
      "75%           2.0  \n",
      "max           2.0  \n"
     ]
    }
   ],
   "source": [
    "for key,groups in data.groupby(by = \"clustering\"):\n",
    "    print(f\"this is group/clustering {key}\")\n",
    "    print(groups.describe())"
   ]
  }
 ],
 "metadata": {
  "kernelspec": {
   "display_name": "Python 3 (ipykernel)",
   "language": "python",
   "name": "python3"
  },
  "language_info": {
   "codemirror_mode": {
    "name": "ipython",
    "version": 3
   },
   "file_extension": ".py",
   "mimetype": "text/x-python",
   "name": "python",
   "nbconvert_exporter": "python",
   "pygments_lexer": "ipython3",
   "version": "3.11.5"
  }
 },
 "nbformat": 4,
 "nbformat_minor": 5
}
